{
 "cells": [
  {
   "cell_type": "code",
   "execution_count": 1,
   "id": "5cba4311",
   "metadata": {},
   "outputs": [],
   "source": [
    "import os\n",
    "import openai\n",
    "from dotenv import load_dotenv, find_dotenv\n",
    "\n",
    "_ = load_dotenv(find_dotenv()) \n",
    "openai.api_key  = os.getenv('OPENAI_API_KEY')"
   ]
  },
  {
   "cell_type": "code",
   "execution_count": 2,
   "id": "8b35f44d",
   "metadata": {},
   "outputs": [],
   "source": [
    "# This is utility switch. Turns on more logging.\n",
    "log_state_data = True"
   ]
  },
  {
   "cell_type": "markdown",
   "id": "5e21220f",
   "metadata": {},
   "source": [
    "### AgentState"
   ]
  },
  {
   "cell_type": "code",
   "execution_count": 3,
   "id": "8df5d140",
   "metadata": {},
   "outputs": [],
   "source": [
    "import functools\n",
    "import operator\n",
    "from typing import Annotated\n",
    "from typing import Sequence, TypedDict\n",
    "from langchain_core.messages import BaseMessage, HumanMessage\n",
    "\n",
    "#from langchain_core.prompts import ChatPromptTemplate, MessagesPlaceholder\n",
    "\n",
    "#from langgraph.graph import END, StateGraph, START\n",
    "\n",
    "\n",
    "# The agent state is the input to each node in the graph\n",
    "class AgentState(TypedDict):\n",
    "    # This is storing the initial question from the user\n",
    "    task: str\n",
    "    # This is storing the guid to look for\n",
    "    guid: str        \n",
    "    # Will be true if log has error    \n",
    "    logerror: bool\n",
    "    # This stores the composition of the application\n",
    "    # This should probably be a python dict at some point\n",
    "    composition: str    \n",
    "    # The annotation tells the graph that new messages will always\n",
    "    # be added to the current states\n",
    "    messages: Annotated[Sequence[BaseMessage], operator.add]\n",
    "    # The 'next' field indicates where to route to next\n",
    "    next: str\n",
    "    # The 'summary' field contains the final summary\n",
    "    summary: str    \n"
   ]
  },
  {
   "cell_type": "code",
   "execution_count": 4,
   "id": "c9391485",
   "metadata": {},
   "outputs": [],
   "source": [
    "GETANSIBLEGUID_PROMPT = \"\"\"You are an expert at determining the guid from a query.\\\n",
    "Find out the guid and just return the guid and nothing else. \"\"\""
   ]
  },
  {
   "cell_type": "code",
   "execution_count": 5,
   "id": "d3c8e7e8",
   "metadata": {},
   "outputs": [],
   "source": [
    "from langchain_openai import ChatOpenAI\n",
    "from langchain_core.messages import AnyMessage, SystemMessage, HumanMessage, AIMessage, ChatMessage\n",
    "\n",
    "def getAnsiblelog_node(state: AgentState):\n",
    "    \n",
    "    if (log_state_data):\n",
    "        print(\"*************inside getAnsiblelog_node********************\")\n",
    "        for key in state:\n",
    "            print(key,\" : \",state[key])\n",
    "        print(\"*********************************\")\n",
    "    \n",
    "    msg = state['task']\n",
    "    \n",
    "    messages = [\n",
    "        SystemMessage(content=GETANSIBLEGUID_PROMPT), \n",
    "        HumanMessage(content=msg)\n",
    "        \n",
    "   ]\n",
    "\n",
    "    model = ChatOpenAI(model=\"gpt-3.5-turbo\", temperature=0)\n",
    "    response = model.invoke(messages)\n",
    "\n",
    "    return {\"task\": msg, \"guid\": [response.content], \"logerror\": True}"
   ]
  },
  {
   "cell_type": "code",
   "execution_count": 6,
   "id": "4f455a5c",
   "metadata": {},
   "outputs": [],
   "source": [
    "from langchain_openai import ChatOpenAI\n",
    "from langchain_core.messages import AnyMessage, SystemMessage, HumanMessage, AIMessage, ChatMessage\n",
    "\n",
    "def sendSlack_node(state: AgentState):\n",
    "    \n",
    "    if (log_state_data):\n",
    "        print(\"*************inside sendSlack_node********************\")\n",
    "        for key in state:\n",
    "            print(key,\" : \",state[key])\n",
    "        print(\"*********************************\")\n",
    "    \n",
    "    msg = \"slack sent\"\n",
    "    \n",
    "\n",
    "    return {\"summary\": msg}"
   ]
  },
  {
   "cell_type": "code",
   "execution_count": 7,
   "id": "244e1dc6",
   "metadata": {},
   "outputs": [],
   "source": [
    "from langgraph.graph import END, StateGraph, START\n",
    "workflow = StateGraph(AgentState)\n",
    "workflow.add_node(\"Error_Detect\",getAnsiblelog_node)\n",
    "workflow.add_node(\"Slack\",sendSlack_node)\n",
    "workflow.add_edge(\"Slack\", END)\n",
    "\n",
    "# Finally, add entrypoint\n",
    "workflow.add_edge(START, \"Error_Detect\")"
   ]
  },
  {
   "cell_type": "code",
   "execution_count": 8,
   "id": "2232d4fa",
   "metadata": {},
   "outputs": [],
   "source": [
    "def should_continue(state):\n",
    "    if state[\"logerror\"] == False:\n",
    "        return END\n",
    "    return \"Slack\""
   ]
  },
  {
   "cell_type": "code",
   "execution_count": 9,
   "id": "0e31fb1d",
   "metadata": {},
   "outputs": [],
   "source": [
    "workflow.add_conditional_edges(\n",
    "    \"Error_Detect\", \n",
    "    should_continue, \n",
    "    {END: END, \"Slack\": \"Slack\"}\n",
    ")"
   ]
  },
  {
   "cell_type": "code",
   "execution_count": 10,
   "id": "80554a2f",
   "metadata": {},
   "outputs": [],
   "source": [
    "from langgraph.checkpoint.sqlite import SqliteSaver\n",
    "memory = SqliteSaver.from_conn_string(\":memory:\")\n",
    "\n",
    "\n",
    "#graph = workflow.compile()\n",
    "graph = workflow.compile(checkpointer=memory)"
   ]
  },
  {
   "cell_type": "code",
   "execution_count": 11,
   "id": "b9a4d30d",
   "metadata": {},
   "outputs": [
    {
     "data": {
      "image/jpeg": "[encoded data removed]",
      "text/plain": [
       "<IPython.core.display.Image object>"
      ]
     },
     "metadata": {},
     "output_type": "display_data"
    }
   ],
   "source": [
    "from IPython.display import Image, display\n",
    "#from langchain_core.runnables.graph import CurveStyle, MermaidDrawMethod, NodeColors\n",
    "from langchain_core.runnables.graph import CurveStyle, MermaidDrawMethod\n",
    "\n",
    "display(\n",
    "    Image(\n",
    "        graph.get_graph().draw_mermaid_png(\n",
    "            draw_method=MermaidDrawMethod.API,\n",
    "        )\n",
    "    )\n",
    ")"
   ]
  },
  {
   "cell_type": "code",
   "execution_count": 12,
   "id": "9ba51bd9",
   "metadata": {},
   "outputs": [
    {
     "name": "stdout",
     "output_type": "stream",
     "text": [
      "*************inside getAnsiblelog_node********************\n",
      "task  :  Find out the health of a job with id 123456.\n",
      "guid  :  None\n",
      "logerror  :  None\n",
      "composition  :  None\n",
      "messages  :  []\n",
      "next  :  None\n",
      "summary  :  None\n",
      "*********************************\n",
      "{'Error_Detect': {'task': 'Find out the health of a job with id 123456.', 'guid': ['123456'], 'logerror': True}}\n",
      "----\n",
      "*************inside sendSlack_node********************\n",
      "task  :  Find out the health of a job with id 123456.\n",
      "guid  :  ['123456']\n",
      "logerror  :  True\n",
      "composition  :  None\n",
      "messages  :  []\n",
      "next  :  None\n",
      "summary  :  None\n",
      "*********************************\n",
      "{'Slack': {'summary': 'slack sent'}}\n",
      "----\n"
     ]
    }
   ],
   "source": [
    "thread = {\"configurable\": {\"thread_id\": \"1\"}}\n",
    "\n",
    "    \n",
    "for s in graph.stream(\n",
    "    #{\"messages\": [HumanMessage(content=\"What about guid 123456\")]},\n",
    "    {\"task\": \"Find out the health of a job with id 123456.\"},\n",
    "    #{\"recursion_limit\": 4},\n",
    "    thread\n",
    "    ):\n",
    "    if \"__end__\" not in s:\n",
    "        print(s)\n",
    "        print(\"----\")"
   ]
  },
  {
   "cell_type": "code",
   "execution_count": null,
   "id": "5456f6e0",
   "metadata": {},
   "outputs": [],
   "source": []
  }
 ],
 "metadata": {
  "kernelspec": {
   "display_name": ".aiagt",
   "language": "python",
   "name": ".aiagt"
  },
  "language_info": {
   "codemirror_mode": {
    "name": "ipython",
    "version": 3
   },
   "file_extension": ".py",
   "mimetype": "text/x-python",
   "name": "python",
   "nbconvert_exporter": "python",
   "pygments_lexer": "ipython3",
   "version": "3.11.7"
  }
 },
 "nbformat": 4,
 "nbformat_minor": 5
}
